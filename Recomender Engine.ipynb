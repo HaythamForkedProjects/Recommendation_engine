{
 "cells": [
  {
   "cell_type": "code",
   "execution_count": 1,
   "metadata": {
    "collapsed": true
   },
   "outputs": [],
   "source": [
    "import pandas as pd\n",
    "import numpy as np\n",
    "import matplotlib as plt\n",
    "import seaborn as sns\n",
    "from collections import Counter\n",
    "%matplotlib inline"
   ]
  },
  {
   "cell_type": "markdown",
   "metadata": {},
   "source": [
    "Load the users Data"
   ]
  },
  {
   "cell_type": "code",
   "execution_count": 2,
   "metadata": {
    "collapsed": false
   },
   "outputs": [],
   "source": [
    "userCols = ['userId', 'age', 'sex', 'occupation', 'zipCode']\n",
    "users = pd.read_csv('http://files.grouplens.org/datasets/movielens/ml-100k/u.user', sep = '|', names=userCols)"
   ]
  },
  {
   "cell_type": "markdown",
   "metadata": {},
   "source": [
    "Load the rating data"
   ]
  },
  {
   "cell_type": "code",
   "execution_count": 3,
   "metadata": {
    "collapsed": true
   },
   "outputs": [],
   "source": [
    "dataCols = ['userId', 'itemId', 'rating', 'timestamp']\n",
    "data = pd.read_csv('http://files.grouplens.org/datasets/movielens/ml-100k/u.data', sep = '\\t', names=dataCols)"
   ]
  },
  {
   "cell_type": "markdown",
   "metadata": {},
   "source": [
    "Load items data"
   ]
  },
  {
   "cell_type": "code",
   "execution_count": 4,
   "metadata": {
    "collapsed": false
   },
   "outputs": [],
   "source": [
    "itemsCols = ['movieId', 'movieTitle' ,'releaseDate','videoReleaseDate', 'imdbUrl', 'unknown', 'Action', 'Adventure',\n",
    "            'Animation', 'Children\\'s', 'Comedy', 'Crime', 'Documentary', 'Drama', 'Fantasy',\n",
    "            'filmNoir', 'Horror', 'Musical', 'Mystery', 'Romance', 'SciFi', 'Thriller', 'War', 'Western']\n",
    "items = pd.read_csv('http://files.grouplens.org/datasets/movielens/ml-100k/u.item', sep='|', names=itemsCols, encoding='latin-1')"
   ]
  },
  {
   "cell_type": "markdown",
   "metadata": {},
   "source": [
    "Train and Test split - Organic in the data"
   ]
  },
  {
   "cell_type": "code",
   "execution_count": 5,
   "metadata": {
    "collapsed": false
   },
   "outputs": [
    {
     "data": {
      "text/plain": [
       "((90570, 4), (9430, 4))"
      ]
     },
     "execution_count": 5,
     "metadata": {},
     "output_type": "execute_result"
    }
   ],
   "source": [
    "rCols = ['userId', 'movieId', 'rating', 'unixTimestamp']\n",
    "\n",
    "ratingsBase = pd.read_csv('http://files.grouplens.org/datasets/movielens/ml-100k/ua.base',\n",
    "                          sep='\\t', names=rCols, encoding='latin-1')\n",
    "\n",
    "ratingsTest = pd.read_csv('http://files.grouplens.org/datasets/movielens/ml-100k/ua.test',\n",
    "                          sep='\\t', names=rCols, encoding='latin-1')\n",
    "\n",
    "ratingsBase.shape, ratingsTest.shape"
   ]
  },
  {
   "cell_type": "markdown",
   "metadata": {},
   "source": [
    "### Top recomandations by age group and sex"
   ]
  },
  {
   "cell_type": "code",
   "execution_count": 80,
   "metadata": {
    "collapsed": false
   },
   "outputs": [],
   "source": [
    "def getRating(subSet, minVotes):\n",
    "    subSet = pd.DataFrame(subSet)\n",
    "    subSet.columns = ratingsBase.columns\n",
    "    \n",
    "    votes = Counter(subSet.movieId)\n",
    "    \n",
    "    meanRatingFull = []\n",
    "    for movieId in items.movieId:\n",
    "        if votes[movieId] >= minVotes:\n",
    "            try:\n",
    "                meanRatingFull.append([subSet.rating[subSet.movieId == movieId].mean(),\n",
    "                                       str(items.movieTitle[items.movieId == movieId].iloc[0]),\n",
    "                                      votes[movieId]])\n",
    "            except:\n",
    "                continue\n",
    "            \n",
    "    meanRatingFull = pd.DataFrame(meanRatingFull, columns=['rating', 'title', 'votes'])\n",
    "    meanRatingSorted = meanRatingFull.sort_values('rating', ascending=False)[:10]\n",
    "    \n",
    "    return meanRatingSorted"
   ]
  },
  {
   "cell_type": "code",
   "execution_count": 98,
   "metadata": {
    "collapsed": false
   },
   "outputs": [],
   "source": [
    "def meanByAgeAndSex(userId, minVotes = 3):\n",
    "    userSex = users.sex[users.userId == userId].iloc[0]\n",
    "    userAgeGroup = users.ageGroup[users.userId == userId].iloc[0]\n",
    "    userAge = users.age[users.userId == userId].iloc[0]\n",
    "\n",
    "    \n",
    "    userForSubset = users.userId[(users.sex == userSex) & (users.ageGroup == userAgeGroup)]\n",
    "    \n",
    "    subSet = []\n",
    "    for i in range(len(ratingsBase)):\n",
    "        if ratingsBase.userId[i] in userForSubset:\n",
    "            subSet.append(list(ratingsBase.iloc[i])) \n",
    "        \n",
    "    meanRatingSorted = getRating(subSet=subSet, minVotes=minVotes)\n",
    "    \n",
    "    print 'User {userId} is a {userAge} year old {userSex}'.format(\n",
    "        userId=userId, userAge=userAge, userSex='Male' if userSex == 'M' else 'Female')\n",
    "    \n",
    "    return meanRatingSorted"
   ]
  },
  {
   "cell_type": "markdown",
   "metadata": {},
   "source": [
    "Encode age groups to the data farme"
   ]
  },
  {
   "cell_type": "code",
   "execution_count": 78,
   "metadata": {
    "collapsed": true
   },
   "outputs": [],
   "source": [
    "ageGroup = {'young': range(7,13), 'teen': range(13,18), 'youngAdult': range(18, 30), 'adult': range(30,50),\n",
    "            'old': range(50,120)}\n",
    "\n",
    "g = []\n",
    "for age in users.age:\n",
    "    g.append([key for key in ageGroup if age in ageGroup[key]][0]) \n",
    "    \n",
    "users['ageGroup'] = g"
   ]
  },
  {
   "cell_type": "markdown",
   "metadata": {},
   "source": [
    "### Top recomandations by location"
   ]
  },
  {
   "cell_type": "code",
   "execution_count": 76,
   "metadata": {
    "collapsed": true
   },
   "outputs": [],
   "source": [
    "import urllib2\n",
    "import json"
   ]
  },
  {
   "cell_type": "code",
   "execution_count": 75,
   "metadata": {
    "collapsed": true
   },
   "outputs": [],
   "source": [
    "def GetLatLng(Zip):\n",
    "    API_KEY = '<Your API Key>'\n",
    "    url = urllib2.urlopen('https://maps.googleapis.com/maps/api/geocode/json?address=' + str(Zip) + '&key=' + str(API_KEY))\n",
    "    json_url = json.loads(url.read())\n",
    "    lat = json_url['results'][0]['geometry']['location']['lat']\n",
    "    lon = json_url['results'][0]['geometry']['location']['lng']\n",
    "    name = json_url['results'][0]['address_components'][1]['short_name']\n",
    "    county = json_url['results'][0]['address_components'][2]['long_name']\n",
    "    state = json_url['results'][0]['address_components'][3]['long_name']\n",
    "    \n",
    "    return str(name), str(county), str(state), lat, lon"
   ]
  },
  {
   "cell_type": "code",
   "execution_count": 77,
   "metadata": {
    "collapsed": false
   },
   "outputs": [],
   "source": [
    "def meanByLocation(userId, minVotes = 2):\n",
    "    userZipCode3 = users.zipCode[users.userId == userId].iloc[0][:3]\n",
    "\n",
    "    userForSubset = []\n",
    "    for i in range(len(users)):\n",
    "        if users.zipCode[i][:3] == userZipCode3:\n",
    "            userForSubset.append(users.userId[i])\n",
    "\n",
    "    subSet = []\n",
    "    for i in range(len(ratingsBase)):\n",
    "        if ratingsBase.userId[i] in userForSubset:\n",
    "            subSet.append(list(ratingsBase.iloc[i]))\n",
    "    \n",
    "    meanRatingSorted = getRating(subSet=subSet, minVotes=minVotes)\n",
    "    \n",
    "    location = GetLatLng(users.zipCode[users.userId == userId].iloc[0])\n",
    "    \n",
    "    print 'User {userId} is from {town}, {county}, {state}'.format(\n",
    "        userId=userId, town=location[0], county=location[1], state=location[2])\n",
    "    \n",
    "    return meanRatingSorted"
   ]
  },
  {
   "cell_type": "markdown",
   "metadata": {},
   "source": [
    "### Collaborative Filtering"
   ]
  },
  {
   "cell_type": "code",
   "execution_count": 7,
   "metadata": {
    "collapsed": true
   },
   "outputs": [],
   "source": [
    "from scipy.spatial.distance import euclidean as ed\n",
    "from scipy.stats.stats import pearsonr as pc\n",
    "from sklearn.metrics.pairwise import cosine_similarity as cs\n",
    "import random"
   ]
  },
  {
   "cell_type": "code",
   "execution_count": 63,
   "metadata": {
    "collapsed": true
   },
   "outputs": [],
   "source": [
    "def compareTwo(firstUser, secondUser):\n",
    "    first = ratingsBase[ratingsBase.userId == firstUser][[1,2]]\n",
    "    second = ratingsBase[ratingsBase.userId == secondUser][[1,2]]\n",
    "    merged = pd.merge(first, second, on='movieId')\n",
    "    scorePc = pc(merged.rating_x, merged.rating_y)\n",
    "    print 'PC score: {score:.2f} \\np-value: {pval:.2f}'.format(score=scorePc[0], pval=scorePc[1])\n",
    "    sns.pairplot(merged, vars=['rating_x', 'rating_y'], kind='reg', size=3, diag_kind='kde')"
   ]
  },
  {
   "cell_type": "code",
   "execution_count": 9,
   "metadata": {
    "collapsed": true
   },
   "outputs": [],
   "source": [
    "def didntWatch(firstUser, secondUser):\n",
    "    moviesFirstUser = ratingsBase[ratingsBase.userId == firstUser][['movieId']]\n",
    "    moviesSecondUser = ratingsBase[ratingsBase.userId == secondUser][['movieId']]\n",
    "    \n",
    "    moviesFirstUser.index = range(len(moviesFirstUser))\n",
    "    moviesSecondUser.index = range(len(moviesSecondUser))\n",
    "    \n",
    "    didntWatch = []\n",
    "    for i in range(len(moviesSecondUser.movieId)): \n",
    "        if moviesSecondUser.movieId[i] not in list(moviesFirstUser.movieId):\n",
    "            didntWatch.append(moviesSecondUser.movieId[i])\n",
    "            \n",
    "    return didntWatch"
   ]
  },
  {
   "cell_type": "code",
   "execution_count": 10,
   "metadata": {
    "collapsed": false
   },
   "outputs": [],
   "source": [
    "def collaborativeFiltering(userId, minMatch = 10, method = 'pc', sample = len(ratingsBase.userId.unique()), returnNo = 5):\n",
    "    userRatings= ratingsBase[ratingsBase.userId == userId][[1,2]]\n",
    "\n",
    "    if method == 'pc':\n",
    "        pcAndUserId = []\n",
    "        for user in random.sample(ratingsBase.userId.unique(), sample):\n",
    "            tempUserRating = ratingsBase[ratingsBase.userId == user][[1,2]]\n",
    "            merged = pd.merge(userRatings, tempUserRating, on='movieId')\n",
    "            if userId == user:\n",
    "                continue\n",
    "            if len(merged) > minMatch:\n",
    "                pcCompute = pc(merged.rating_x, merged.rating_y)\n",
    "                pcAndUserId.append([user, pcCompute[0], pcCompute[1]])\n",
    "\n",
    "        return pd.DataFrame(pcAndUserId, columns=['userId', 'pc', 'p-value']).sort_values(by='pc', ascending=False)[:returnNo]\n",
    "    \n",
    "    elif method == 'ed':\n",
    "        pcAndUserId = []\n",
    "        for user in random.sample(ratingsBase.userId.unique(), sample):\n",
    "            tempUserRating = ratingsBase[ratingsBase.userId == user][[1,2]]\n",
    "            merged = pd.merge(userRatings, tempUserRating, on='movieId')\n",
    "            if userId == user:\n",
    "                continue\n",
    "            if len(merged) > minMatch:\n",
    "                pcCompute = ed(merged.rating_x, merged.rating_y)\n",
    "                pcAndUserId.append([user, pcCompute])\n",
    "                \n",
    "        return pd.DataFrame(pcAndUserId, columns=['userId', 'ed']).sort_values(by='ed', ascending=True)[:returnNo]\n",
    "\n",
    "    elif method == 'cs':\n",
    "        pcAndUserId = []\n",
    "        for user in random.sample(ratingsBase.userId.unique(), sample):\n",
    "            tempUserRating = ratingsBase[ratingsBase.userId == user][[1,2]]\n",
    "            merged = pd.merge(userRatings, tempUserRating, on='movieId')\n",
    "            if userId == user:\n",
    "                continue\n",
    "            if len(merged) > minMatch:\n",
    "                pcCompute = cs(merged.rating_x, merged.rating_y)\n",
    "                pcAndUserId.append([user, pcCompute[0][0]])\n",
    "\n",
    "        return pd.DataFrame(pcAndUserId, columns=['userId', 'cs']).sort_values(by='cs', ascending=False)[:returnNo]"
   ]
  },
  {
   "cell_type": "code",
   "execution_count": 22,
   "metadata": {
    "collapsed": false
   },
   "outputs": [],
   "source": [
    "def printMatches(userId, bestMatch, method):\n",
    "    userId = userId\n",
    "    age = users.age[users.userId == userId].iloc[0]\n",
    "    sex = users.sex[users.userId == userId].iloc[0]\n",
    "    \n",
    "    if method == 'pc':\n",
    "        method = 'pearson correlation'\n",
    "    elif method == 'ed':\n",
    "        method = 'euclidean distance'\n",
    "    else:\n",
    "        method = 'cosine similarity'\n",
    "    \n",
    "    bestuserId = bestMatch.userId.iloc[0]\n",
    "    bestage = users.age[users.userId == bestMatch.userId.iloc[0]].iloc[0]\n",
    "    bestsex = users.sex[users.userId == bestMatch.userId.iloc[0]].iloc[0]\n",
    "    seconduserId = bestMatch.userId.iloc[1]\n",
    "    secondage = users.age[users.userId == bestMatch.userId.iloc[1]].iloc[0]\n",
    "    secondsex = users.sex[users.userId == bestMatch.userId.iloc[1]].iloc[0]\n",
    "    thirduserId = bestMatch.userId.iloc[2]\n",
    "    thirdage = users.age[users.userId == bestMatch.userId.iloc[2]].iloc[0]\n",
    "    thirdsex = users.sex[users.userId == bestMatch.userId.iloc[2]].iloc[0]\n",
    "\n",
    "    print '''User {userId}, a {age} year old {sex}, was mached based on {method} with:\n",
    "    \n",
    "1. User {bestuserId}, a {bestage} year old {bestsex}\n",
    "2. User {seconduserId}, a {secondage} year old {secondsex}\n",
    "3. User {thirduserId}, a {thirdage} year old {thirdsex}\n",
    "'''.format(userId=userId,age=age,sex='Male' if sex == 'M' else 'Female',\n",
    "            method=method,bestuserId=bestuserId,\n",
    "            bestage=bestage,bestsex='Male' if bestsex == 'M' else 'Female',seconduserId=seconduserId,\n",
    "            secondage=secondage,secondsex='Male' if secondsex == 'M' else 'Female',thirduserId=thirduserId,\n",
    "            thirdage=thirdage,thirdsex='Male' if thirdsex == 'M' else 'Female')\n"
   ]
  },
  {
   "cell_type": "code",
   "execution_count": 12,
   "metadata": {
    "collapsed": false
   },
   "outputs": [],
   "source": [
    "def recommendCollaborativeFiltering(userId, minMatch = 10, method = 'pc', recommendNumber = 5,\n",
    "                                    sample = len(ratingsBase.userId.unique())):\n",
    "    \n",
    "    bestMatch = collaborativeFiltering(userId=userId, minMatch=minMatch, method=method, sample=sample)[['userId']]\n",
    "    \n",
    "    firstForMerge = ratingsBase[ratingsBase.userId == bestMatch.userId.iloc[0]][['movieId', 'rating']]\n",
    "    \n",
    "    dWatch = didntWatch(userId, bestMatch.userId.iloc[0])\n",
    "    \n",
    "    printMatches(userId=userId, bestMatch=bestMatch, method=method)\n",
    "    \n",
    "    firstForMergeDidntWatch = pd.DataFrame()\n",
    "    for i in range(1, len(dWatch)):\n",
    "        firstForMergeDidntWatch = firstForMergeDidntWatch.append(firstForMerge[firstForMerge.movieId == dWatch[i]],\n",
    "                                                                 ignore_index=True)\n",
    "            \n",
    "    merged = pd.merge(firstForMergeDidntWatch,\n",
    "                      ratingsBase[ratingsBase.userId == bestMatch.userId.iloc[1]][['movieId', 'rating']],\n",
    "                      on = 'movieId')\n",
    "    \n",
    "    for i in range(2, len(bestMatch)):\n",
    "        backupMerged = merged\n",
    "        merged = pd.merge(merged, ratingsBase[ratingsBase.userId == bestMatch.userId.iloc[i]][['movieId', 'rating']],\n",
    "                          on = 'movieId')\n",
    "        if (merged.shape[0] <= recommendNumber):\n",
    "            break\n",
    "\n",
    "    if (merged.shape[0] <= recommendNumber):\n",
    "        return backupMerged\n",
    "    else:\n",
    "        return merged"
   ]
  },
  {
   "cell_type": "code",
   "execution_count": 39,
   "metadata": {
    "collapsed": false
   },
   "outputs": [],
   "source": [
    "def movieRecommendCF(userId, minMatch = 10, method = 'pc', recommendNumber = 5,\n",
    "                     sample = len(ratingsBase.userId.unique())):\n",
    "    ''' \n",
    "    userId: from the dataset\n",
    "    minMatch: min number of matches in the merged DF\n",
    "    method: pearson correlation (\"pc\"), euclidean distance (\"ed), cosine similarity (\"cs\")\n",
    "    sample: number of samples from the data with witch to match (auto: max)\n",
    "    recommendNumber: number of recommendations to generate\n",
    "    '''\n",
    "    try: \n",
    "        fullMatrix = recommendCollaborativeFiltering(userId=userId, minMatch=minMatch, method=method, sample=sample,\n",
    "                                                     recommendNumber=recommendNumber)\n",
    "\n",
    "        finalScore = list(fullMatrix.drop(['movieId'], axis=1).sum(axis=1))\n",
    "        fullMatrix['finalScore'] = finalScore\n",
    "        fullMatrix = fullMatrix.sort_values('finalScore', ascending=False)\n",
    "\n",
    "        movieTitle = []\n",
    "        for movieId in fullMatrix.movieId:\n",
    "            movieTitle.append(str(items.movieTitle[items.movieId == movieId].iloc[0]))\n",
    "\n",
    "        fullMatrix['movieTitle'] = movieTitle\n",
    "\n",
    "        if fullMatrix.shape[0] <= recommendNumber:\n",
    "            fullMatrix.index = range(1, fullMatrix.shape[0]+1)\n",
    "            return fullMatrix[['movieTitle', 'finalScore']]\n",
    "        else:\n",
    "            fullMatrix.index = range(1, fullMatrix.shape[0]+1)\n",
    "            return fullMatrix[['movieTitle', 'finalScore']][:recommendNumber]\n",
    "    except IndexError:\n",
    "        print 'Reduce the number of minMatch'"
   ]
  },
  {
   "cell_type": "markdown",
   "metadata": {},
   "source": [
    "# Collaborative Filtering (CF) recommender engine"
   ]
  },
  {
   "cell_type": "code",
   "execution_count": 88,
   "metadata": {
    "collapsed": false
   },
   "outputs": [
    {
     "name": "stdout",
     "output_type": "stream",
     "text": [
      "User 73, a 24 year old Male, was mached based on pearson correlation with:\n",
      "    \n",
      "1. User 177, a 20 year old Male\n",
      "2. User 894, a 47 year old Male\n",
      "3. User 537, a 36 year old Male\n",
      "\n"
     ]
    },
    {
     "data": {
      "text/html": [
       "<div>\n",
       "<table border=\"1\" class=\"dataframe\">\n",
       "  <thead>\n",
       "    <tr style=\"text-align: right;\">\n",
       "      <th></th>\n",
       "      <th>movieTitle</th>\n",
       "      <th>finalScore</th>\n",
       "    </tr>\n",
       "  </thead>\n",
       "  <tbody>\n",
       "    <tr>\n",
       "      <th>1</th>\n",
       "      <td>Usual Suspects, The (1995)</td>\n",
       "      <td>22</td>\n",
       "    </tr>\n",
       "    <tr>\n",
       "      <th>2</th>\n",
       "      <td>Star Wars (1977)</td>\n",
       "      <td>22</td>\n",
       "    </tr>\n",
       "    <tr>\n",
       "      <th>3</th>\n",
       "      <td>Lone Star (1996)</td>\n",
       "      <td>20</td>\n",
       "    </tr>\n",
       "    <tr>\n",
       "      <th>4</th>\n",
       "      <td>City of Lost Children, The (1995)</td>\n",
       "      <td>18</td>\n",
       "    </tr>\n",
       "    <tr>\n",
       "      <th>5</th>\n",
       "      <td>Contact (1997)</td>\n",
       "      <td>17</td>\n",
       "    </tr>\n",
       "  </tbody>\n",
       "</table>\n",
       "</div>"
      ],
      "text/plain": [
       "                          movieTitle  finalScore\n",
       "1         Usual Suspects, The (1995)          22\n",
       "2                   Star Wars (1977)          22\n",
       "3                   Lone Star (1996)          20\n",
       "4  City of Lost Children, The (1995)          18\n",
       "5                     Contact (1997)          17"
      ]
     },
     "execution_count": 88,
     "metadata": {},
     "output_type": "execute_result"
    }
   ],
   "source": [
    "movieRecommendCF(73, method='pc', recommendNumber=5, minMatch=20)"
   ]
  },
  {
   "cell_type": "markdown",
   "metadata": {},
   "source": [
    "### Graph top match"
   ]
  },
  {
   "cell_type": "code",
   "execution_count": 89,
   "metadata": {
    "collapsed": false
   },
   "outputs": [
    {
     "name": "stdout",
     "output_type": "stream",
     "text": [
      "PC score: 0.68 \n",
      "p-value: 0.00\n"
     ]
    },
    {
     "data": {
      "image/png": "[encoded data removed]",
      "text/plain": [
       "<matplotlib.figure.Figure at 0x1de24240>"
      ]
     },
     "metadata": {},
     "output_type": "display_data"
    }
   ],
   "source": [
    "compareTwo(73, 177)"
   ]
  },
  {
   "cell_type": "markdown",
   "metadata": {},
   "source": [
    "# Location based recommender engine"
   ]
  },
  {
   "cell_type": "code",
   "execution_count": 96,
   "metadata": {
    "collapsed": false
   },
   "outputs": [
    {
     "name": "stdout",
     "output_type": "stream",
     "text": [
      "User 1 is from Tucson, Pima County, Arizona\n"
     ]
    },
    {
     "data": {
      "text/html": [
       "<div>\n",
       "<table border=\"1\" class=\"dataframe\">\n",
       "  <thead>\n",
       "    <tr style=\"text-align: right;\">\n",
       "      <th></th>\n",
       "      <th>rating</th>\n",
       "      <th>title</th>\n",
       "      <th>votes</th>\n",
       "    </tr>\n",
       "  </thead>\n",
       "  <tbody>\n",
       "    <tr>\n",
       "      <th>0</th>\n",
       "      <td>5.000000</td>\n",
       "      <td>Star Wars (1977)</td>\n",
       "      <td>3</td>\n",
       "    </tr>\n",
       "    <tr>\n",
       "      <th>1</th>\n",
       "      <td>4.666667</td>\n",
       "      <td>Godfather, The (1972)</td>\n",
       "      <td>3</td>\n",
       "    </tr>\n",
       "    <tr>\n",
       "      <th>2</th>\n",
       "      <td>4.333333</td>\n",
       "      <td>Return of the Jedi (1983)</td>\n",
       "      <td>3</td>\n",
       "    </tr>\n",
       "    <tr>\n",
       "      <th>3</th>\n",
       "      <td>4.000000</td>\n",
       "      <td>Full Monty, The (1997)</td>\n",
       "      <td>3</td>\n",
       "    </tr>\n",
       "  </tbody>\n",
       "</table>\n",
       "</div>"
      ],
      "text/plain": [
       "     rating                      title  votes\n",
       "0  5.000000           Star Wars (1977)      3\n",
       "1  4.666667      Godfather, The (1972)      3\n",
       "2  4.333333  Return of the Jedi (1983)      3\n",
       "3  4.000000     Full Monty, The (1997)      3"
      ]
     },
     "execution_count": 96,
     "metadata": {},
     "output_type": "execute_result"
    }
   ],
   "source": [
    "meanByLocation(1, minVotes=3)"
   ]
  },
  {
   "cell_type": "markdown",
   "metadata": {},
   "source": [
    "# demographic based recommender engine"
   ]
  },
  {
   "cell_type": "code",
   "execution_count": 99,
   "metadata": {
    "collapsed": false
   },
   "outputs": [
    {
     "name": "stdout",
     "output_type": "stream",
     "text": [
      "User 47 is a 53 year old Male\n"
     ]
    },
    {
     "data": {
      "text/html": [
       "<div>\n",
       "<table border=\"1\" class=\"dataframe\">\n",
       "  <thead>\n",
       "    <tr style=\"text-align: right;\">\n",
       "      <th></th>\n",
       "      <th>rating</th>\n",
       "      <th>title</th>\n",
       "      <th>votes</th>\n",
       "    </tr>\n",
       "  </thead>\n",
       "  <tbody>\n",
       "    <tr>\n",
       "      <th>138</th>\n",
       "      <td>5.000000</td>\n",
       "      <td>Jean de Florette (1986)</td>\n",
       "      <td>4</td>\n",
       "    </tr>\n",
       "    <tr>\n",
       "      <th>523</th>\n",
       "      <td>5.000000</td>\n",
       "      <td>Microcosmos: Le peuple de l'herbe (1996)</td>\n",
       "      <td>3</td>\n",
       "    </tr>\n",
       "    <tr>\n",
       "      <th>702</th>\n",
       "      <td>4.750000</td>\n",
       "      <td>Some Folks Call It a Sling Blade (1993)</td>\n",
       "      <td>4</td>\n",
       "    </tr>\n",
       "    <tr>\n",
       "      <th>277</th>\n",
       "      <td>4.555556</td>\n",
       "      <td>Schindler's List (1993)</td>\n",
       "      <td>27</td>\n",
       "    </tr>\n",
       "    <tr>\n",
       "      <th>340</th>\n",
       "      <td>4.500000</td>\n",
       "      <td>Close Shave, A (1995)</td>\n",
       "      <td>16</td>\n",
       "    </tr>\n",
       "    <tr>\n",
       "      <th>241</th>\n",
       "      <td>4.500000</td>\n",
       "      <td>Sense and Sensibility (1995)</td>\n",
       "      <td>24</td>\n",
       "    </tr>\n",
       "    <tr>\n",
       "      <th>595</th>\n",
       "      <td>4.500000</td>\n",
       "      <td>Shadowlands (1993)</td>\n",
       "      <td>8</td>\n",
       "    </tr>\n",
       "    <tr>\n",
       "      <th>399</th>\n",
       "      <td>4.500000</td>\n",
       "      <td>Apartment, The (1960)</td>\n",
       "      <td>6</td>\n",
       "    </tr>\n",
       "    <tr>\n",
       "      <th>396</th>\n",
       "      <td>4.454545</td>\n",
       "      <td>Philadelphia Story, The (1940)</td>\n",
       "      <td>11</td>\n",
       "    </tr>\n",
       "    <tr>\n",
       "      <th>36</th>\n",
       "      <td>4.444444</td>\n",
       "      <td>Ed Wood (1994)</td>\n",
       "      <td>9</td>\n",
       "    </tr>\n",
       "  </tbody>\n",
       "</table>\n",
       "</div>"
      ],
      "text/plain": [
       "       rating                                     title  votes\n",
       "138  5.000000                   Jean de Florette (1986)      4\n",
       "523  5.000000  Microcosmos: Le peuple de l'herbe (1996)      3\n",
       "702  4.750000   Some Folks Call It a Sling Blade (1993)      4\n",
       "277  4.555556                   Schindler's List (1993)     27\n",
       "340  4.500000                     Close Shave, A (1995)     16\n",
       "241  4.500000              Sense and Sensibility (1995)     24\n",
       "595  4.500000                        Shadowlands (1993)      8\n",
       "399  4.500000                     Apartment, The (1960)      6\n",
       "396  4.454545            Philadelphia Story, The (1940)     11\n",
       "36   4.444444                            Ed Wood (1994)      9"
      ]
     },
     "execution_count": 99,
     "metadata": {},
     "output_type": "execute_result"
    }
   ],
   "source": [
    "meanByAgeAndSex(47, minVotes=3)"
   ]
  }
 ],
 "metadata": {
  "kernelspec": {
   "display_name": "Python 2",
   "language": "python",
   "name": "python2"
  },
  "language_info": {
   "codemirror_mode": {
    "name": "ipython",
    "version": 2
   },
   "file_extension": ".py",
   "mimetype": "text/x-python",
   "name": "python",
   "nbconvert_exporter": "python",
   "pygments_lexer": "ipython2",
   "version": "2.7.11"
  }
 },
 "nbformat": 4,
 "nbformat_minor": 0
}
